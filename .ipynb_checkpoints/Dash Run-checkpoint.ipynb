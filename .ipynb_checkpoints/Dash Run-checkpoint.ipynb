{
 "cells": [
  {
   "cell_type": "code",
   "execution_count": 1,
   "id": "4503d9a7",
   "metadata": {
    "ExecuteTime": {
     "end_time": "2022-08-16T14:45:05.466607Z",
     "start_time": "2022-08-16T14:45:05.432694Z"
    }
   },
   "outputs": [
    {
     "ename": "SyntaxError",
     "evalue": "invalid syntax. Perhaps you forgot a comma? (3482038398.py, line 47)",
     "output_type": "error",
     "traceback": [
      "\u001b[1;36m  Input \u001b[1;32mIn [1]\u001b[1;36m\u001b[0m\n\u001b[1;33m    dcc.RangeSlider(\u001b[0m\n\u001b[1;37m    ^\u001b[0m\n\u001b[1;31mSyntaxError\u001b[0m\u001b[1;31m:\u001b[0m invalid syntax. Perhaps you forgot a comma?\n"
     ]
    }
   ],
   "source": [
    "import pandas as pd\n",
    "import dash\n",
    "import dash_html_components as html\n",
    "import dash_core_components as dcc\n",
    "from dash.dependencies import Input, Output\n",
    "import plotly.express as px\n",
    "\n",
    "spacex_df = pd.read_csv('spacex_launch_dash.csv')\n",
    "max_payload = spacex_df['Payload Mass (kg)'].max()\n",
    "min_payload = spacex_df['Payload Mass (kg)'].min()\n",
    "\n",
    "data = spacex_df[['Launch Site', 'class']].groupby(by = ['Launch Site']).agg({'class': ['sum', 'count']})\n",
    "data.columns = ['Success', 'Total']\n",
    "data['Total'] = data['Total'] - data['Success']\n",
    "data.columns = ['Success', 'Failure']\n",
    "\n",
    "app = dash.Dash(__name__)\n",
    "\n",
    "app.layout = html.Div(children = [\n",
    "    html.H1('SpaceX Launch Records Dashboard', \n",
    "        style = {\n",
    "            'textAlign': 'center', \n",
    "            'color': '#503D36',\n",
    "            'font-size': 40}),\n",
    "\n",
    "    dcc.Dropdown(\n",
    "        id = 'site-dropdown', \n",
    "        options = [\n",
    "            {'label': 'All Sites', 'value': 'ALL'},\n",
    "            {'label': 'CCAFS LC-40', 'value': 'CCAFS LC-40'},\n",
    "            {'label': 'CCAFS SLC-40', 'value': 'CCAFS SLC-40'},\n",
    "            {'label': 'KSC LC-39A', 'value': 'KSC LC-39A'},\n",
    "            {'label': 'VAFB SLC-4E', 'value': 'VAFB SLC-4E'}\n",
    "        ],\n",
    "        value = 'ALL',\n",
    "        placeholder = 'Select a Launch Site here',\n",
    "        searchable = True\n",
    "    ),\n",
    "\n",
    "    html.Br(),\n",
    "\n",
    "    html.Div(dcc.Graph(id = 'success-pie-chart')),\n",
    "    html.Br(),\n",
    "\n",
    "    html.P('Payload range (Kg):'),\n",
    "\n",
    "    dcc.RangeSlider(\n",
    "        id = 'payload-slider',\n",
    "        min = 0,\n",
    "        max = 10000,\n",
    "        step = 1000,\n",
    "        value = [min_payload, maxpayload],\n",
    "        marks = {0: '0', 100: '100'}\n",
    "    )\n",
    "\n",
    "    html.Div(dcc.Graph(id = 'success-payload-scatter-chart')),\n",
    "])\n",
    "\n",
    "@app.callback(\n",
    "    Output(component_id = 'success-pie-chart', component_property = 'figure'),\n",
    "    Input(component_id = 'site-dropdown', component_property = 'value')\n",
    ")\n",
    "\n",
    "def get_pie_chart(entered_site):\n",
    "    if entered_site == 'ALL':\n",
    "        fig = px.pie(\n",
    "            data.reset_index(),\n",
    "            values = 'Success',\n",
    "            names = 'Launch Site',\n",
    "            title = 'Success Launch by Site'\n",
    "        )\n",
    "    else:\n",
    "        fig = px.pie(\n",
    "            values = data.loc[entered_site].values,\n",
    "            names = data.loc[entered_site].keys(),\n",
    "            title = 'Success/Failure Launch by ' + entered_site\n",
    "        )\n",
    "    return fig\n",
    "\n",
    "#Task4\n",
    "\n",
    "if __name__ == '__main__':\n",
    "    app.run_server()"
   ]
  },
  {
   "cell_type": "code",
   "execution_count": null,
   "id": "0ecb7f5e",
   "metadata": {},
   "outputs": [],
   "source": []
  }
 ],
 "metadata": {
  "kernelspec": {
   "display_name": "Python 3 (ipykernel)",
   "language": "python",
   "name": "python3"
  },
  "language_info": {
   "codemirror_mode": {
    "name": "ipython",
    "version": 3
   },
   "file_extension": ".py",
   "mimetype": "text/x-python",
   "name": "python",
   "nbconvert_exporter": "python",
   "pygments_lexer": "ipython3",
   "version": "3.10.5"
  },
  "toc": {
   "base_numbering": 1,
   "nav_menu": {},
   "number_sections": true,
   "sideBar": false,
   "skip_h1_title": false,
   "title_cell": "Table of Contents",
   "title_sidebar": "Contents",
   "toc_cell": false,
   "toc_position": {
    "height": "66.275px",
    "left": "42px",
    "top": "141.125px",
    "width": "159px"
   },
   "toc_section_display": false,
   "toc_window_display": true
  }
 },
 "nbformat": 4,
 "nbformat_minor": 5
}
